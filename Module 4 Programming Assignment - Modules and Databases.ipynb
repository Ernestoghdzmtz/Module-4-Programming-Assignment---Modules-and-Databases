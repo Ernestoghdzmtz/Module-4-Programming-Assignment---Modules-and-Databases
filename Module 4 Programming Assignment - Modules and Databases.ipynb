{
 "cells": [
  {
   "cell_type": "code",
   "execution_count": 13,
   "id": "95b49443-a2d2-4519-8623-45b8d598eda3",
   "metadata": {},
   "outputs": [],
   "source": [
    "#11.1 Create a file called zoo.py. In it, define a function called hours() that prints the string 'Open 9-5 daily'\n",
    "def hours():\n",
    "    print(\"Open 9-5 daily\")\n"
   ]
  },
  {
   "cell_type": "code",
   "execution_count": null,
   "id": "97fd4f00-a89e-4cd9-8ea6-70e90be086a4",
   "metadata": {},
   "outputs": [],
   "source": [
    "# 11.2 In the interactive interpreter, import the zoo module as menagerie and call its hours() function.\n",
    "import zoo as menagerie\n",
    "menagerie.hours()\n",
    "\n",
    "# It will print Open 9-5 daily"
   ]
  },
  {
   "cell_type": "code",
   "execution_count": null,
   "id": "516e4f3b-e67d-491f-b2c4-db293f23622a",
   "metadata": {},
   "outputs": [],
   "source": [
    "# 11.3 Staying in the interpreter, import the hours() function from zoo directly and call it.\n",
    "from zoo import hours\n",
    "hours()\n"
   ]
  },
  {
   "cell_type": "code",
   "execution_count": null,
   "id": "9e6dec81-2cca-480c-8c5c-874c49d1b0e4",
   "metadata": {},
   "outputs": [],
   "source": [
    "# 11.4 Import the hours() function as info and call it.\n",
    "from zoo import hours as info\n",
    "info()"
   ]
  },
  {
   "cell_type": "code",
   "execution_count": 11,
   "id": "c3f063bd-b32e-4b23-96e1-e7584fbe2bde",
   "metadata": {},
   "outputs": [
    {
     "name": "stdout",
     "output_type": "stream",
     "text": [
      "{'a': 1, 'b': 2, 'c': 3}\n"
     ]
    }
   ],
   "source": [
    "# 11.5 Make a dictionary called plain with the key-value pairs 'a': 1, 'b': 2, and 'c': 3, and then print it.\n",
    "plain = {'a': 1, 'b': 2, 'c': 3}\n",
    "print(plain)\n"
   ]
  },
  {
   "cell_type": "code",
   "execution_count": 15,
   "id": "9e4bd977-8e94-4a54-80e2-5badce2919c8",
   "metadata": {},
   "outputs": [
    {
     "name": "stdout",
     "output_type": "stream",
     "text": [
      "OrderedDict([('a', 1), ('b', 2), ('c', 3)])\n"
     ]
    }
   ],
   "source": [
    "# 11.6 Make an OrderedDict called fancy from the same pairs listed in the previous question\n",
    "# and print it. Did it print in the same order as plain?\n",
    "from collections import OrderedDict\n",
    "fancy = OrderedDict([('a', 1), ('b', 2), ('c', 3)])\n",
    "print(fancy)\n",
    "\n",
    "\n"
   ]
  },
  {
   "cell_type": "code",
   "execution_count": 17,
   "id": "bb5b768d-eee3-48e3-84e6-2212ba322629",
   "metadata": {},
   "outputs": [
    {
     "name": "stdout",
     "output_type": "stream",
     "text": [
      "['something for a']\n"
     ]
    }
   ],
   "source": [
    "# 11.7 Make a defaultdict called dict_of_lists and pass it the argument list. \n",
    "# Make the list dict_of_lists['a'] and append the value 'something for a' to it in one assignment. \n",
    "# Print dict_of_lists['a'].\n",
    "from collections import defaultdict\n",
    "dict_of_lists = defaultdict(list)\n",
    "dict_of_lists['a'].append('something for a')\n",
    "print(dict_of_lists['a'])\n",
    "\n"
   ]
  },
  {
   "cell_type": "code",
   "execution_count": null,
   "id": "8da179f3-fed9-42a8-8642-104a10fc7376",
   "metadata": {},
   "outputs": [],
   "source": []
  }
 ],
 "metadata": {
  "kernelspec": {
   "display_name": "anaconda-ai-2024.04-py310",
   "language": "python",
   "name": "conda-env-anaconda-ai-2024.04-py310-py"
  },
  "language_info": {
   "codemirror_mode": {
    "name": "ipython",
    "version": 3
   },
   "file_extension": ".py",
   "mimetype": "text/x-python",
   "name": "python",
   "nbconvert_exporter": "python",
   "pygments_lexer": "ipython3",
   "version": "3.10.13"
  }
 },
 "nbformat": 4,
 "nbformat_minor": 5
}
